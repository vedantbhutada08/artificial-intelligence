{
  "nbformat": 4,
  "nbformat_minor": 0,
  "metadata": {
    "colab": {
      "provenance": []
    },
    "kernelspec": {
      "name": "python3",
      "display_name": "Python 3"
    },
    "language_info": {
      "name": "python"
    }
  },
  "cells": [
    {
      "cell_type": "markdown",
      "source": [
        "#Name: Vedant Bhutada\n",
        "#Roll: 69\n",
        "#Batch: A4\n",
        "#Aim:Write a program to implement Naive Bayes Classifier"
      ],
      "metadata": {
        "id": "J1rbDVp9QhZS"
      }
    },
    {
      "cell_type": "code",
      "source": [
        "import numpy as np\n",
        "\n",
        "class NaiveBayesClassifier:\n",
        "    def __init__(self):\n",
        "        self.class_probabilities = {}\n",
        "        self.feature_probabilities = {}\n",
        "\n",
        "    def fit(self, X, y):\n",
        "        num_samples, num_features = X.shape\n",
        "        self.classes = np.unique(y)\n",
        "\n",
        "        # Calculate class probabilities\n",
        "        for c in self.classes:\n",
        "            self.class_probabilities[c] = np.sum(y == c) / num_samples\n",
        "\n",
        "        # Calculate feature probabilities for each class\n",
        "        for c in self.classes:\n",
        "            self.feature_probabilities[c] = {}\n",
        "            for feature_index in range(num_features):\n",
        "                unique_values, counts = np.unique(X[y == c, feature_index], return_counts=True)\n",
        "                total_samples = np.sum(counts)\n",
        "                probabilities = counts / total_samples\n",
        "                self.feature_probabilities[c][feature_index] = dict(zip(unique_values, probabilities))\n",
        "\n",
        "    def predict(self, X):\n",
        "        predictions = []\n",
        "        probabilities = []\n",
        "        for sample in X:\n",
        "            max_prob = -1\n",
        "            predicted_class = None\n",
        "            class_probabilities = {}\n",
        "            for c in self.classes:\n",
        "                class_prob = self.class_probabilities[c]\n",
        "                feature_probs = self.feature_probabilities[c]\n",
        "                total_prob = class_prob\n",
        "                for feature_index, feature_value in enumerate(sample):\n",
        "                    if feature_value in feature_probs.get(feature_index, {}):\n",
        "                        total_prob *= feature_probs[feature_index][feature_value]\n",
        "                    else:\n",
        "                        total_prob *= 0  # Laplace smoothing for unseen values\n",
        "                class_probabilities[c] = total_prob\n",
        "                if total_prob > max_prob:\n",
        "                    max_prob = total_prob\n",
        "                    predicted_class = c\n",
        "            predictions.append(predicted_class)\n",
        "            probabilities.append(class_probabilities)\n",
        "        return predictions, probabilities\n",
        "\n",
        "# Define the dataset\n",
        "data = np.array([\n",
        "    [\"Sunny\", \"Hot\", \"High\", \"Weak\", \"No\"],\n",
        "    [\"Sunny\", \"Hot\", \"High\", \"Strong\", \"No\"],\n",
        "    [\"Overcast\", \"Hot\", \"High\", \"Weak\", \"Yes\"],\n",
        "    [\"Rain\", \"Mild\", \"High\", \"Weak\", \"Yes\"],\n",
        "    [\"Rain\", \"Cool\", \"Normal\", \"Weak\", \"Yes\"],\n",
        "    [\"Rain\", \"Cool\", \"Normal\", \"Strong\", \"No\"],\n",
        "    [\"Overcast\", \"Cool\", \"Normal\", \"Weak\", \"Yes\"],\n",
        "    [\"Sunny\", \"Mild\", \"High\", \"Weak\", \"No\"],\n",
        "    [\"Sunny\", \"Cool\", \"Normal\", \"Weak\", \"Yes\"],\n",
        "    [\"Rain\", \"Mild\", \"Normal\", \"Strong\", \"Yes\"],\n",
        "    [\"Sunny\", \"Mild\", \"Normal\", \"Strong\", \"Yes\"],\n",
        "    [\"Overcast\", \"Mild\", \"High\", \"Strong\", \"Yes\"],\n",
        "    [\"Overcast\", \"Hot\", \"Normal\", \"Weak\", \"Yes\"],\n",
        "    [\"Rain\", \"Mild\", \"High\", \"Strong\", \"No\"],\n",
        "])\n",
        "\n",
        "X = data[:, :-1]  # Features\n",
        "y = data[:, -1]   # Labels\n",
        "\n",
        "# Create and train the classifier\n",
        "classifier = NaiveBayesClassifier()\n",
        "classifier.fit(X, y)\n",
        "\n",
        "# Make predictions\n",
        "new_samples = np.array([\n",
        "    [\"Sunny\", \"Cool\", \"High\", \"Weak\"],\n",
        "    [\"Rain\", \"Mild\", \"Normal\", \"Weak\"],\n",
        "    [\"Overcast\", \"Hot\", \"High\", \"Strong\"],\n",
        "])\n",
        "\n",
        "predictions, probabilities = classifier.predict(new_samples)\n",
        "print(\"Predictions:\", predictions)\n",
        "print(\"Probabilities:\", probabilities)\n"
      ],
      "metadata": {
        "colab": {
          "base_uri": "https://localhost:8080/"
        },
        "id": "bV0JY-QRQ0q1",
        "outputId": "6ec61703-857d-4660-84e0-b93013cc0450"
      },
      "execution_count": 1,
      "outputs": [
        {
          "output_type": "stream",
          "name": "stdout",
          "text": [
            "Predictions: ['No', 'Yes', 'Yes']\n",
            "Probabilities: [{'No': 0.013714285714285715, 'Yes': 0.010582010582010581}, {'No': 0.004571428571428573, 'Yes': 0.042328042328042326}, {'No': 0.0, 'Yes': 0.007054673721340388}]\n"
          ]
        }
      ]
    }
  ]
}